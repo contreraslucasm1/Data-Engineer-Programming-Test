{
 "cells": [
  {
   "cell_type": "markdown",
   "id": "1401209b-09db-439b-a1ce-d4af94918198",
   "metadata": {},
   "source": [
    "# Grandata - DE Test - Consigna"
   ]
  },
  {
   "cell_type": "markdown",
   "id": "f9ffda6c-b756-4c91-9981-088ff1d307c6",
   "metadata": {},
   "source": [
    "El dataset eventos.csv.gz refleja las interaciones entre los usuarios de un servicio de comunicaciones. Cada registro muestra los eventos ocurridos durante una hora entera entre un par de usuarios (origen y destino).\n",
    "Columna\n",
    "\n",
    "Descripción\n",
    "\n",
    "● id_source: ID del usuario origen (el que inicia los eventos)\n",
    "\n",
    "● id_destination: ID del usuario destino\n",
    "\n",
    "● region: Región del país donde se registaron los eventos\n",
    "\n",
    "● date: Fecha (YYYYMMDD)\n",
    "\n",
    "● hour: Hora del día (0, ..., 23)\n",
    "\n",
    "● calls: Cantidad de llamadas entre los usuarios durante esa hora\n",
    "\n",
    "● seconds: Cantidad total de segundos que duraron las llamadas realizadas durante esa hora (0 si calls=0)\n",
    "\n",
    "● sms: Cantidad de sms entre los usuarios durante esa hora\n",
    "\n",
    "Ejemplo: si el día 20/01/2021 entre las 16:00 y las 16:59 hs\n",
    "1. el ID A realizó 2 llamadas de 10 segundos cada una al ID B 2. elIDBenvió3smsalIDA\n",
    "Entonces en el dataset de eventos se observarán los siguientes registros:\n",
    "1. id_source=A, id_destination=B, date=20210120, hour=16, calls=2, seconds=20,\n",
    "sms=0, ...\n",
    "2. id_source=B, id_destination=A, date=20210120, hour=16, calls=0, seconds=0,\n",
    "sms=3, ...\n",
    "\n",
    "Aquellos registros con id_source o id_destination nulo deben ser descartados.\n",
    "\n",
    "El dataset free_sms_destinations.csv.gz contiene los ID de los usuarios hacia quienes se puede enviar sms de manera gratuita (destinos gratuitos).\n",
    "\n",
    "Los sms se facturan siempre al usuario origen, de la siguiente manera:\n",
    "\n",
    "● $0.0 si el destino es gratuito\n",
    "\n",
    "● $1.5 si el evento se registra en las regiones 1 a 5\n",
    "\n",
    "● $2.0 si el evento se registra en las regiones 6 a 9\n",
    "\n",
    "Se pide:\n",
    "1. Calcular el monto total que facturará el proveedor del servicio por envíos de sms.\n",
    "2. Generar un dataset que contenga los ID de los 100 usuarios con mayor facturación por envío de sms y el monto total a facturar a cada uno. Además del ID, incluir el ID hasheado mediante el algoritmo MD5. Escribir el dataset en formato parquet con compresión gzip.\n",
    "3. Graficar un histograma de cantidad de llamadas que se realizan por hora del día.\n"
   ]
  },
  {
   "cell_type": "markdown",
   "id": "a732b3fd-6677-4f5d-9157-0d220ed59a7d",
   "metadata": {},
   "source": [
    "### Preparo los datos\n",
    "- Leo archivos events.csv.gz y free_sms_destinations.csv.gz \n",
    "- Filtro las filas que no tiene id's nulos\n",
    "- Joineo ambos datasets usando id_destination(events) y id(free_sms_destinations)\n",
    "- Calculo el monto a facturar parcial por hora (valor del sms * cantidad de sms)\n",
    "    - valor del sms: \n",
    "        - si id(free_sms_destinations) no es null -> 0 \n",
    "        - si 1 <= region <= 5 -> 1,5\n",
    "        - sino -> 2Calculate the sms rate"
   ]
  },
  {
   "cell_type": "code",
   "execution_count": 1,
   "id": "de74ed40-d59b-4b79-a706-ce7e5d213595",
   "metadata": {},
   "outputs": [],
   "source": [
    "from pyspark.sql import SparkSession\n",
    "import pyspark.sql.functions as F\n",
    "\n",
    "# Init Spark\n",
    "spark = SparkSession.builder.appName(\"GranData_DE_test\").getOrCreate()\n",
    "\n",
    "# Read events file\n",
    "df_events = spark.read.csv(\"events.csv.gz\", header=True, inferSchema=True)\n",
    "\n",
    "# Filter rows with null id_source or id_destination\n",
    "df_events = df_events.filter(\"id_source is not null and id_destination is not null\")\n",
    "\n",
    "# Read free_sms_destinations file\n",
    "df_free_sms_destinations = spark.read.csv(\"free_sms_destinations.csv.gz\", header=True, inferSchema=True)\n",
    "\n",
    "# Join dataframe events with free_sms_destinations\n",
    "df_events = df_events.join(df_free_sms_destinations, df_events[\"id_destination\"] == df_free_sms_destinations[\"id\"], \"left_outer\")\n",
    "\n",
    "# Calculate the sms rate and partial_amount\n",
    "df_events = df_events.withColumn(\"sms_rate\", \n",
    "                                   F.when(df_events[\"id\"].isNotNull(), 0.0)\n",
    "                                   .when((df_events[\"region\"] >= 1) & (df_events[\"region\"] <= 5), 1.5)\n",
    "                                   .otherwise(2.0)\n",
    "                                  )\n",
    "df_events = df_events.withColumn(\"partial_amount\",df_events[\"sms_rate\"]*df_events[\"sms\"])"
   ]
  },
  {
   "cell_type": "markdown",
   "id": "17e59a78-320d-48d4-826e-04a22a8c2856",
   "metadata": {},
   "source": [
    "## 1. Calcular el monto total que facturará el proveedor del servicio por envíos de sms.\n"
   ]
  },
  {
   "cell_type": "code",
   "execution_count": 2,
   "id": "41bb0410-9cf1-497f-9a47-c22fac55c99b",
   "metadata": {},
   "outputs": [
    {
     "name": "stdout",
     "output_type": "stream",
     "text": [
      "Total amount of sms:  391367.0\n"
     ]
    }
   ],
   "source": [
    "total_amount = df_events.groupBy().sum(\"partial_amount\").collect()[0][0]\n",
    "print(\"Total amount of sms: \", total_amount)"
   ]
  },
  {
   "cell_type": "markdown",
   "id": "1b76e2ec-c551-4a67-ad19-28e302d28d99",
   "metadata": {},
   "source": [
    "## 2. Generar un dataset que contenga los ID de los 100 usuarios con mayor facturación por envío de sms y el monto total a facturar a cada uno. \n",
    "\n",
    "## Además del ID, incluir el ID hasheado mediante el algoritmo MD5. \n",
    "\n",
    "## Escribir el dataset en formato parquet con compresión gzip.\n"
   ]
  },
  {
   "cell_type": "code",
   "execution_count": 3,
   "id": "2b0db189-3337-4f2b-ab96-9c6859026092",
   "metadata": {},
   "outputs": [],
   "source": [
    "# Generar un dataset con los 100 usuarios con mayor facturación\n",
    "top_100_users = df_events.groupBy(\"id_source\").sum(\"partial_amount\").sort(\"sum(partial_amount)\", ascending=False).limit(100)\n",
    "top_100_users = top_100_users.withColumn(\"id_md5\", F.expr(\"MD5(id_source)\"))\n",
    "top_100_users.write.parquet(\"events.parquet.gz\", compression=\"gzip\", mode='overwrite')"
   ]
  },
  {
   "cell_type": "code",
   "execution_count": 4,
   "id": "6487d75e-9711-417f-bc5d-7fb33d6334db",
   "metadata": {},
   "outputs": [
    {
     "name": "stdout",
     "output_type": "stream",
     "text": [
      "+---------+-------------------+--------------------+\n",
      "|id_source|sum(partial_amount)|              id_md5|\n",
      "+---------+-------------------+--------------------+\n",
      "|      4D3|            23403.0|911914c7729eedbdf...|\n",
      "|      76D|            13664.0|bd180b7811395cbce...|\n",
      "|      07E|             4226.0|14a0660ae2f5d1868...|\n",
      "|      541|             2526.0|16c222aa19898e505...|\n",
      "|      C25|             2019.0|0bfa0b57d99985aa1...|\n",
      "|      17D|             1209.0|7521526054bb89ba2...|\n",
      "|      3AE|             1087.5|6a57072949dbc409c...|\n",
      "|      B86|             1054.5|bc97b32ee2abb9c18...|\n",
      "|      E89|              979.5|5135cc35322269f2f...|\n",
      "|      B71|              972.0|1088a10d026eae0ac...|\n",
      "|      162|              887.5|82aa4b0af34c2313a...|\n",
      "|      068|              854.5|fb8490a9504a36c21...|\n",
      "|      A2C|              691.5|d7dcc6703e425a6e3...|\n",
      "|      335|              681.0|f9b902fc3289af4dd...|\n",
      "|      1BD|              679.0|f5a45e33602ea62f9...|\n",
      "|      3E0|              661.5|e9d076deb3451cc49...|\n",
      "|      76F|              644.0|1b9204fd05eed7af9...|\n",
      "|      6FB|              598.5|dbcec12ccfc780516...|\n",
      "|      5D7|              596.5|d688a78f3638bed0c...|\n",
      "|      84C|              591.5|f33e3ebc2d9aab9c9...|\n",
      "+---------+-------------------+--------------------+\n",
      "only showing top 20 rows\n",
      "\n"
     ]
    }
   ],
   "source": [
    "top_100_users.show()"
   ]
  },
  {
   "cell_type": "markdown",
   "id": "9f5b6061-3d88-4806-ac97-ce7f41195397",
   "metadata": {},
   "source": [
    "## 3. Graficar un histograma de cantidad de llamadas que se realizan por hora del día.\n"
   ]
  },
  {
   "cell_type": "code",
   "execution_count": 5,
   "id": "9bedd516-3640-445b-b5c1-904b9dabcfd5",
   "metadata": {},
   "outputs": [
    {
     "data": {
      "image/png": "[encoded data removed]",
      "text/plain": [
       "<Figure size 640x480 with 1 Axes>"
      ]
     },
     "metadata": {},
     "output_type": "display_data"
    }
   ],
   "source": [
    "from matplotlib import pyplot as plt\n",
    "\n",
    "# Agrupar los datos por hora\n",
    "df_calls_per_hour = df_events.groupBy(\"hour\").sum(\"calls\").sort(\"hour\")\n",
    "\n",
    "# Obtener los datos para graficar\n",
    "hours = df_calls_per_hour.rdd.map(lambda x: x[0]).collect() \n",
    "amount_calls = df_calls_per_hour.rdd.map(lambda x: x[1]).collect()\n",
    "\n",
    "# Graficar el histograma\n",
    "plt.bar(hours, amount_calls)\n",
    "plt.xlabel(\"Hour of day\")\n",
    "plt.ylabel(\"Amount of calls\")\n",
    "plt.show()"
   ]
  }
 ],
 "metadata": {
  "kernelspec": {
   "display_name": "Python 3 (ipykernel)",
   "language": "python",
   "name": "python3"
  },
  "language_info": {
   "codemirror_mode": {
    "name": "ipython",
    "version": 3
   },
   "file_extension": ".py",
   "mimetype": "text/x-python",
   "name": "python",
   "nbconvert_exporter": "python",
   "pygments_lexer": "ipython3",
   "version": "3.10.6"
  }
 },
 "nbformat": 4,
 "nbformat_minor": 5
}
